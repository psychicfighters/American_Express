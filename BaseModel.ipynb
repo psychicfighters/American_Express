{
 "cells": [
  {
   "cell_type": "code",
   "execution_count": 1,
   "metadata": {},
   "outputs": [
    {
     "name": "stderr",
     "output_type": "stream",
     "text": [
      "Using TensorFlow backend.\n"
     ]
    }
   ],
   "source": [
    "import numpy as np\n",
    "import pandas as pd\n",
    "from keras.models import load_model\n",
    "from keras.models import Sequential, Model\n",
    "from keras.layers import Input, Dense, Dropout, Activation\n",
    "from keras.layers.normalization import BatchNormalization\n",
    "from keras.callbacks import EarlyStopping, ModelCheckpoint, CSVLogger, Callback  #early stopping ta aktu pore implement korchi\n",
    "from sklearn.metrics import roc_auc_score\n",
    "from keras.callbacks import Callback\n",
    "from sklearn.model_selection import train_test_split\n",
    "import keras"
   ]
  },
  {
   "cell_type": "code",
   "execution_count": null,
   "metadata": {},
   "outputs": [],
   "source": [
    "X , Y = loadData()\n",
    "X_train, X_test, y_train, y_test = train_test_split(X, Y, test_size=0.1, random_state=0)"
   ]
  },
  {
   "cell_type": "code",
   "execution_count": 2,
   "metadata": {},
   "outputs": [],
   "source": [
    "class roc_callback(Callback):\n",
    "    def __init__(self,training_data,validation_data):\n",
    "        self.x = training_data[0]\n",
    "        self.y = training_data[1]\n",
    "        self.x_val = validation_data[0]\n",
    "        self.y_val = validation_data[1]\n",
    "\n",
    "\n",
    "    def on_train_begin(self, logs={}):\n",
    "        return\n",
    "\n",
    "    def on_train_end(self, logs={}):\n",
    "        return\n",
    "\n",
    "    def on_epoch_begin(self, epoch, logs={}):\n",
    "        return\n",
    "\n",
    "    def on_epoch_end(self, epoch, logs={}):\n",
    "        y_pred = self.model.predict(self.x)\n",
    "        roc = roc_auc_score(self.y, y_pred)\n",
    "        y_pred_val = self.model.predict(self.x_val)\n",
    "        roc_val = roc_auc_score(self.y_val, y_pred_val)\n",
    "        print('\\rroc-auc: %s - roc-auc_val: %s' % (str(round(roc,4)),str(round(roc_val,4))),end=100*' '+'\\n')\n",
    "        return\n",
    "\n",
    "    def on_batch_begin(self, batch, logs={}):\n",
    "        return\n",
    "\n",
    "    def on_batch_end(self, batch, logs={}):\n",
    "        return\n"
   ]
  },
  {
   "cell_type": "code",
   "execution_count": 21,
   "metadata": {},
   "outputs": [],
   "source": [
    "def base_model():\n",
    "        model = Sequential()\n",
    "        model.add(Dense(250, input_dim=10,\n",
    "                        kernel_initializer=keras.initializers.he_normal(seed=None)))\n",
    "        model.add(Activation('relu'))\n",
    "        model.add(BatchNormalization())\n",
    "        model.add(Dropout(0.3))\n",
    "        \n",
    "        model.add(Dense(125, kernel_initializer=keras.initializers.he_normal(seed=None)))\n",
    "        model.add(Activation('relu'))\n",
    "        model.add(BatchNormalization())\n",
    "        model.add(Dropout(0.2))\n",
    "        \n",
    "        model.add(Dense(85, kernel_initializer=keras.initializers.he_normal(seed=None)))\n",
    "        model.add(Activation('relu'))\n",
    "        model.add(BatchNormalization())\n",
    "        model.add(Dropout(0.2))\n",
    "        \n",
    "        model.add(Dense(35, kernel_initializer=keras.initializers.he_normal(seed=None)))\n",
    "        model.add(Activation('relu'))\n",
    "        model.add(BatchNormalization())\n",
    "        model.add(Dropout(0.1))\n",
    "        \n",
    "        model.add(Dense(10, kernel_initializer=keras.initializers.he_normal(seed=None)))\n",
    "        model.add(Activation('relu'))\n",
    "        model.add(BatchNormalization())\n",
    "#         model.add(Dropout(0.08))\n",
    "        model.add(Dense(1, activation='sigmoid'))\n",
    "\n",
    "        # Compile model\n",
    "        opt = keras.optimizers.adam(lr=0.01, decay=1e-7)\n",
    "        model.compile(optimizer=opt, metrics = ['accuracy'], loss='binary_crossentropy')\n",
    "\n",
    "        return model"
   ]
  },
  {
   "cell_type": "code",
   "execution_count": 22,
   "metadata": {},
   "outputs": [
    {
     "name": "stdout",
     "output_type": "stream",
     "text": [
      "_________________________________________________________________\n",
      "Layer (type)                 Output Shape              Param #   \n",
      "=================================================================\n",
      "dense_55 (Dense)             (None, 250)               2750      \n",
      "_________________________________________________________________\n",
      "activation_46 (Activation)   (None, 250)               0         \n",
      "_________________________________________________________________\n",
      "batch_normalization_46 (Batc (None, 250)               1000      \n",
      "_________________________________________________________________\n",
      "dropout_37 (Dropout)         (None, 250)               0         \n",
      "_________________________________________________________________\n",
      "dense_56 (Dense)             (None, 125)               31375     \n",
      "_________________________________________________________________\n",
      "activation_47 (Activation)   (None, 125)               0         \n",
      "_________________________________________________________________\n",
      "batch_normalization_47 (Batc (None, 125)               500       \n",
      "_________________________________________________________________\n",
      "dropout_38 (Dropout)         (None, 125)               0         \n",
      "_________________________________________________________________\n",
      "dense_57 (Dense)             (None, 85)                10710     \n",
      "_________________________________________________________________\n",
      "activation_48 (Activation)   (None, 85)                0         \n",
      "_________________________________________________________________\n",
      "batch_normalization_48 (Batc (None, 85)                340       \n",
      "_________________________________________________________________\n",
      "dropout_39 (Dropout)         (None, 85)                0         \n",
      "_________________________________________________________________\n",
      "dense_58 (Dense)             (None, 35)                3010      \n",
      "_________________________________________________________________\n",
      "activation_49 (Activation)   (None, 35)                0         \n",
      "_________________________________________________________________\n",
      "batch_normalization_49 (Batc (None, 35)                140       \n",
      "_________________________________________________________________\n",
      "dropout_40 (Dropout)         (None, 35)                0         \n",
      "_________________________________________________________________\n",
      "dense_59 (Dense)             (None, 10)                360       \n",
      "_________________________________________________________________\n",
      "activation_50 (Activation)   (None, 10)                0         \n",
      "_________________________________________________________________\n",
      "batch_normalization_50 (Batc (None, 10)                40        \n",
      "_________________________________________________________________\n",
      "dense_60 (Dense)             (None, 1)                 11        \n",
      "=================================================================\n",
      "Total params: 50,236\n",
      "Trainable params: 49,226\n",
      "Non-trainable params: 1,010\n",
      "_________________________________________________________________\n"
     ]
    }
   ],
   "source": [
    "model = base_model()\n",
    "model.summary()"
   ]
  },
  {
   "cell_type": "code",
   "execution_count": null,
   "metadata": {},
   "outputs": [],
   "source": [
    "model.fit(X_train, y_train, validation_data=(X_test, y_test), epochs=10, batch_size=64, \n",
    "          callbacks=[roc_callback(training_data=(X_train, y_train),validation_data=(X_test, y_test))])"
   ]
  }
 ],
 "metadata": {
  "kernelspec": {
   "display_name": "Python 3",
   "language": "python",
   "name": "python3"
  },
  "language_info": {
   "codemirror_mode": {
    "name": "ipython",
    "version": 3
   },
   "file_extension": ".py",
   "mimetype": "text/x-python",
   "name": "python",
   "nbconvert_exporter": "python",
   "pygments_lexer": "ipython3",
   "version": "3.6.5"
  }
 },
 "nbformat": 4,
 "nbformat_minor": 1
}
